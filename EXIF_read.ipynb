{
 "cells": [
  {
   "cell_type": "code",
   "execution_count": 6,
   "metadata": {},
   "outputs": [],
   "source": [
    "from PIL import Image\n",
    "from PIL import ExifTags\n",
    "from PIL.ExifTags import TAGS, GPSTAGS"
   ]
  },
  {
   "cell_type": "code",
   "execution_count": 7,
   "metadata": {},
   "outputs": [
    {
     "name": "stdout",
     "output_type": "stream",
     "text": [
      "<PIL.JpegImagePlugin.JpegImageFile image mode=RGB size=6016x4016 at 0x2C624D95518>\n"
     ]
    }
   ],
   "source": [
    "img = Image.open(\"DSC_7194.jpg\")\n",
    "print(img)"
   ]
  },
  {
   "cell_type": "code",
   "execution_count": 14,
   "metadata": {},
   "outputs": [],
   "source": [
    "info = img._getexif()"
   ]
  },
  {
   "cell_type": "code",
   "execution_count": 15,
   "metadata": {},
   "outputs": [
    {
     "name": "stdout",
     "output_type": "stream",
     "text": [
      "ResolutionUnit : 2\n",
      "ExifOffset : 224\n",
      "Make : NIKON CORPORATION\n",
      "Model : NIKON D750\n",
      "Software : Adobe Photoshop Lightroom Classic 7.4 (Windows)\n",
      "DateTime : 2019:03:29 15:41:58\n",
      "XResolution : (240, 1)\n",
      "YResolution : (240, 1)\n",
      "ExifVersion : b'0230'\n",
      "ShutterSpeedValue : (5906891, 1000000)\n",
      "ApertureValue : (3356144, 1000000)\n",
      "DateTimeOriginal : 2019:03:24 13:25:17\n",
      "DateTimeDigitized : 2019:03:24 13:25:17\n",
      "ExposureBiasValue : (0, 6)\n",
      "MaxApertureValue : (16, 10)\n",
      "MeteringMode : 5\n",
      "LightSource : 0\n",
      "Flash : 16\n",
      "FocalLength : (500, 10)\n",
      "ColorSpace : 1\n",
      "WhiteBalance : 0\n",
      "DigitalZoomRatio : (1, 1)\n",
      "FocalPlaneXResolution : (54886891, 32768)\n",
      "FocalPlaneYResolution : (54886891, 32768)\n",
      "FocalPlaneResolutionUnit : 3\n",
      "SubsecTimeOriginal : 33\n",
      "SubsecTimeDigitized : 33\n",
      "Sharpness : 0\n",
      "SubjectDistanceRange : 0\n",
      "SensingMethod : 2\n",
      "FileSource : b'\\x03'\n",
      "ExposureTime : (1, 60)\n",
      "FNumber : (32, 10)\n",
      "SceneType : b'\\x01'\n",
      "ExposureProgram : 1\n",
      "CFAPattern : b'\\x02\\x00\\x02\\x00\\x00\\x01\\x01\\x02'\n",
      "CustomRendered : 0\n",
      "ISOSpeedRatings : 1250\n",
      "ExposureMode : 1\n",
      "34864 : 2\n",
      "BodySerialNumber : 8002017\n",
      "LensSpecification : ((500, 10), (500, 10), (18, 10), (18, 10))\n",
      "LensModel : 50.0 mm f/1.8\n",
      "FocalLengthIn35mmFilm : 50\n",
      "SceneCaptureType : 0\n",
      "GainControl : 2\n",
      "Contrast : 0\n",
      "Saturation : 0\n"
     ]
    }
   ],
   "source": [
    "for tag, value in info.items():\n",
    "    key = TAGS.get(tag, tag)\n",
    "    print(key ,\":\", str(value))"
   ]
  }
 ],
 "metadata": {
  "kernelspec": {
   "display_name": "Python 3",
   "language": "python",
   "name": "python3"
  },
  "language_info": {
   "codemirror_mode": {
    "name": "ipython",
    "version": 3
   },
   "file_extension": ".py",
   "mimetype": "text/x-python",
   "name": "python",
   "nbconvert_exporter": "python",
   "pygments_lexer": "ipython3",
   "version": "3.6.7"
  }
 },
 "nbformat": 4,
 "nbformat_minor": 2
}
